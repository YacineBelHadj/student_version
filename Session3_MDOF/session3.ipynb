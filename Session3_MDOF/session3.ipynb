{
 "cells": [
  {
   "cell_type": "markdown",
   "id": "7cc6ac07",
   "metadata": {},
   "source": [
    "<font color ='Navy'><center> __BruFace__ </center></font>\n",
    "<br> MA1 Mechanical Engineering <br>  __Mechanical vibrations__ <br> <br> \n",
    "***\n",
    "***\n",
    "<font color='Navy'><h1><center>Session 3 : Multiple DOF system</center></h1></font> \n",
    "***\n",
    " <div class=\"alert alert-block alert-info\">\n",
    "<center><b>Welcome to the third session </b></center></div>\n",
    "    \n",
    "During the practical session, we will use the same libraries as the ones used in the previous sessions.\n",
    "\n",
    "<div class=\"alert alert-block alert-info\">\n",
    "<center><b>Don't forget :It is important that you run each cell of the notebook. To do so select a cell (it will be highlighted) and press shift+enter on your keyboard or the play button in the menu above.</b></center></div>"
   ]
  },
  {
   "cell_type": "code",
   "execution_count": null,
   "id": "c1120863",
   "metadata": {},
   "outputs": [],
   "source": [
    "# let's import both numpy and matplotlib.pyplot \n",
    "# the \"as\" in the code bellow is to tell python that if we reference to the package using np and plt \n",
    "import numpy as np\n",
    "import matplotlib.pyplot as plt \n",
    "import scipy.linalg as linalg\n",
    "# don't worry about this line \n",
    "%matplotlib notebook"
   ]
  },
  {
   "cell_type": "markdown",
   "id": "7250aaa8",
   "metadata": {},
   "source": [
    "# Exercises\n",
    "\n",
    "## Exercise 1: Fundamental equations of a MDOF system\n",
    "\n",
    "Consider the following three-degree-of-freedom (3 DOFs) system :\n",
    "<img src=\"./Images/MDOF.png\" width=200 height=200 />\n"
   ]
  },
  {
   "cell_type": "markdown",
   "id": "86d55b62",
   "metadata": {},
   "source": [
    "<b> Assignment 1.1:</b> Write the equation of motion in the time domain for the system (in LaTeX)  in the cell below: \n",
    "\n",
    "(If you are not familiar with LaTeX you can use: https://www.hostmath.com/ and copy the LaTeX below, or write it on paper for yourself)"
   ]
  },
  {
   "cell_type": "markdown",
   "id": "8d5c7698",
   "metadata": {},
   "source": [
    "###BEGIN SOLUTION\n",
    "$$\n",
    "M {\\bf \\ddot  x}(t) + C {\\bf\\dot x}(t) + K {\\bf x}(t) = {\\bf f}(t) \\text{ ,with: } M =  \\begin{bmatrix} m & 0 & 0\\\\ 0&m&0\\\\0&0&m \\end{bmatrix} ,  C =  \\begin{bmatrix} c1+c & -c & 0\\\\ -c&2c&-c\\\\0&-c&c \\end{bmatrix}  ,  K =  \\begin{bmatrix} k1+k & -k & 0\\\\ -k&2k&-k\\\\0&-k&k \\end{bmatrix} .\n",
    "$$\n",
    "$$\n",
    "{\\bf f}(t) = \\begin{Bmatrix} 0 \\\\ 0 \\\\ f(t) \\end{Bmatrix}\n",
    "$$\n",
    "$$\n",
    "{\\bf x}(t) = \\begin{Bmatrix} x_1(t) \\\\ x_2(t) \\\\ x_3(t) \\end{Bmatrix}\n",
    "$$\n",
    "###END SOLUTION"
   ]
  },
  {
   "cell_type": "markdown",
   "id": "d6810d05",
   "metadata": {},
   "source": [
    "<b> Assignment 1.2:</b> Create a function `build_3DOF_matrices` that takes as arguments the stiffnesses $k$ and $k_1$, the damping values $c$ and $c_1$ and the mass $m$ and computes the system matrices ($M$, $C$, $K$). In the cell below we have given you a start, we show how you can use `np.array` to build the $M$-matrix. "
   ]
  },
  {
   "cell_type": "code",
   "execution_count": null,
   "id": "0f9de8c2",
   "metadata": {},
   "outputs": [],
   "source": [
    "def build_3DOF_matrices(m:float,c:float,c1:float,k:float,k1:float): \n",
    "    \"\"\"\n",
    "    Implement a function that computes the build the system matrix for a 3DOF matrix\n",
    "\n",
    "    Arguments:\n",
    "    m,k,k1,c,c1 -- parameters of the MDOF system\n",
    "\n",
    "    Returns:\n",
    "    M_mat : The M matrix from the system equation\n",
    "    K_mat : The K matrix from the system equation\n",
    "    C_mat : The C matrix from the system equation\n",
    "  \n",
    "    Tips use np.array([[],[],[]]) to define your 2D matrix\n",
    "    check documentation FMI 'Numpy.array()'\n",
    "    \"\"\"  \n",
    "    # here is an example of how to set a matrix \n",
    "    \n",
    "    M_mat=np.array([[m, 0, 0],\n",
    "           [0, m, 0],\n",
    "           [0, 0, m]])\n",
    "    \n",
    "    ###BEGIN SOLUTION\n",
    "    \n",
    "    K_mat=np.array([[k1+k, -k, 0],\n",
    "           [-k, 2*k, -k],\n",
    "           [0, -k, k]])\n",
    "    C_mat=np.array([[c1+c, -c, 0],\n",
    "            [-c, 2*c, -c],\n",
    "            [0,-c,c]])\n",
    "    ###END SOLUTION\n",
    "    return M_mat, C_mat, K_mat"
   ]
  },
  {
   "cell_type": "markdown",
   "id": "a746881d",
   "metadata": {},
   "source": [
    "In the cell below we will check if you implemented the function correctly. To do so we will use several properties of the system matrices.  Do you understand all the checks that are being done?"
   ]
  },
  {
   "cell_type": "code",
   "execution_count": null,
   "id": "9fd7de38",
   "metadata": {},
   "outputs": [],
   "source": [
    "M, C, K = build_3DOF_matrices(m=1, k=10, k1=10, c=0.1, c1=0.1)\n",
    "\n",
    "assert np.array_equal(M, np.eye(3)), 'M-matrix is not diagonal' # Mass matrix is a diagonal matrix\n",
    "\n",
    "for matrix in [M,C,K]: # Iterate over the three matrices\n",
    "    assert np.size(matrix,0) == np.size(matrix, 1), f'{matrix} is not square' # All three matrices should be square\n",
    "    assert np.size(matrix,0) == 3, f'{matrix} is not 3x3' # For a 3DOF system we expect the system matrices to be 3X3 matrix\n",
    "    assert np.allclose(matrix, matrix.T), f'{matrix} is not symmetric' # The matrices should be symmetric\n",
    "    # The next one is a bit special, we assert whether or not the matrix is positive definite\n",
    "    assert np.all(np.linalg.eigvals(matrix) > 0), f'{matrix} is not positive definite' \n",
    "# Some final checks\n",
    "assert K[2,2] == 10\n",
    "assert np.sum(K) == 10,  'The K matrix has an error in it'\n",
    "assert np.sum(C) == 0.1, 'The C matrix has an error in it'\n"
   ]
  },
  {
   "cell_type": "markdown",
   "id": "7e3f55f3",
   "metadata": {},
   "source": [
    "## Exercise 2 : Solving the conservative system"
   ]
  },
  {
   "cell_type": "markdown",
   "id": "69f819d7",
   "metadata": {},
   "source": [
    "Before diving into a damped response we first will analyze the __conservative__ system response. Let us start with the eigenvalues and eigenvectors of the conservative system. To do so, we need to solve the following equation:\n",
    "\n",
    "$(K-\\lambda{}M)\\Psi = (K-\\omega^2M)\\Psi =0$\n",
    "\n",
    "Which is a basic eigenvalue problem. In the cell below we provide you a function `calc_eigenvalues_eigenvectors` that uses `scipy.linalg.eig` to solve the eigenvalue problem and returns $\\lambda$ and $\\Psi$.\n"
   ]
  },
  {
   "cell_type": "code",
   "execution_count": null,
   "id": "24c6a9a1",
   "metadata": {},
   "outputs": [],
   "source": [
    "def calc_eigenvalues_eigenvectors(M:np.array,K:np.array):\n",
    "    \"\"\"\n",
    "    A function that computes the eigenvalues and eigenvectors\n",
    "    based on the system parameter by reworking the equations of motion to a generalized eigenvalue problem\n",
    "\n",
    "    Arguments:\n",
    "    M,K -- system matrices of the MDOF system\n",
    "\n",
    "    Returns:\n",
    "    lamb -- The eigenvalues of the conservative eigenvalue problem\n",
    "    psi -- The eigenvectors of the conservative eigenvalue problem\n",
    "  \n",
    "    \n",
    "    \"\"\"   \n",
    "    \n",
    "    lamb, psi = linalg.eig(K,M)\n",
    "\n",
    "    return lamb, psi\n",
    "    "
   ]
  },
  {
   "cell_type": "markdown",
   "id": "648d3146",
   "metadata": {},
   "source": [
    "<b> Assignment 2.1:</b> Use `build_3DOF_matrices` and `calc_eigenvalues_eigenvectors`  to first calculate the eigenvalues `lamb` and eigenvectors `psi` (a.k.a the mode shapes).  Then calculate the eigenfrequencies in $Hz$ for a 3DOF system as presented above with $m = 1 kg$, $k = k1 = 16 N/m$, $c = c1 = 0.1 N s/m$.\n",
    "\n",
    "Put your found eigenfrequencies in an array called `f_res`."
   ]
  },
  {
   "cell_type": "code",
   "execution_count": null,
   "id": "ae40d123",
   "metadata": {},
   "outputs": [],
   "source": [
    "###BEGIN SOLUTION\n",
    "\n",
    "M, C, K = build_3DOF_matrices(m=1, k=16, k1=16, c=0.1, c1=0.1)\n",
    "lamb, psi = calc_eigenvalues_eigenvectors(M,K)\n",
    "\n",
    "f_res = np.sqrt(lamb)/2/np.pi\n",
    "\n",
    "###END SOLUTION"
   ]
  },
  {
   "cell_type": "markdown",
   "id": "b30dc944",
   "metadata": {},
   "source": [
    "Let us have a look at the resonance frequencies you calculated:"
   ]
  },
  {
   "cell_type": "code",
   "execution_count": null,
   "id": "d84878ca",
   "metadata": {},
   "outputs": [],
   "source": [
    "# Enumerate() method adds a counter to the list f_res and returns it in a form of elements_index and elements_values\n",
    "for i,f_r in enumerate(f_res):\n",
    "    print(f'Resonance frequency {i}: {np.real(f_r):0.2f} Hz')\n",
    "\n",
    "# I do a little test, summing up the found resonance frequencies and comparing to the correct value\n",
    "assert len(f_res) == 3, f'Your result contains {len(f_res)} resonance frequencies, we have 3 (pairs of) resonance frequencies'\n",
    "assert round(np.sum(np.real(f_res)),2) != 12.73, 'Did you spot the power two that applies to omega?'\n",
    "assert round(np.sum(np.real(f_res)),2) == 2.22, 'At least one of the resonance frequencies you found is incorrect!'"
   ]
  },
  {
   "cell_type": "markdown",
   "id": "bd5b4e5d",
   "metadata": {},
   "source": [
    "<b> Assignment 2.2:</b> In the field below answer following questions: \n",
    "* How many resonance frequencies did you obtain? Why?\n",
    "* How many mode shapes did you obtain? Why?\n",
    "* What are the dimensions of the mode shapes? Why?"
   ]
  },
  {
   "cell_type": "markdown",
   "id": "5fb34bfe",
   "metadata": {},
   "source": [
    "###BEGIN SOLUTION\n",
    "\n",
    "While we will obtain 6 results, the results are 3 complex conjugate pairs (= the number of Degrees of Freedom, DOFs). Meaning we in fact find:\n",
    "\n",
    "- 3 resonance frequencies, as we have three Degrees of Freedom (DOFs)\n",
    "- 3 mode shapes are obtained, as many as there are resonances frequencies/modes\n",
    "- the mode shapes are vectors of dimensions 3x1, as we have 3 dof  \n",
    "\n",
    "###END SOLUTION"
   ]
  },
  {
   "cell_type": "markdown",
   "id": "b3324208",
   "metadata": {},
   "source": [
    "An important property of mode shapes is their orthogonality. In the next assignment you have to validate the orthogonality between two mode shapes.\n",
    "\n",
    "Remember that :\n",
    "\n",
    "$\\Psi^TM\\Psi=diag(\\mu_i)$,\n",
    "\n",
    "$\\Psi^TK\\Psi=diag(\\mu_i\\omega_i^2)$\n",
    "\n",
    "\n",
    "<b> Assignment 2.3:</b> Complete `check_orthogonality` to calculate the orthogonality between two vectors. Consider using `np.matmul` and `np.transpose`: "
   ]
  },
  {
   "cell_type": "code",
   "execution_count": null,
   "id": "c2dd4869",
   "metadata": {},
   "outputs": [],
   "source": [
    "def check_orthogonality(phi_1, phi_2, M):\n",
    "    \"\"\"\n",
    "    A function that computes the orthogonality between two vectors\n",
    "\n",
    "    Arguments:\n",
    "    psi_1, psi_2 -- vectors of which the orthogonality is checked\n",
    "    M    -- Mass matrix of the system\n",
    "\n",
    "    Return: orth -- the orthogonality of the two vectors \n",
    "    \n",
    "    TIP: matrix multiplications are done using np.matmul\n",
    "    \"\"\"   \n",
    "    ###BEGIN SOLUTION\n",
    "    \n",
    "    orth_left = np.matmul(np.transpose(phi_1), M) \n",
    "    orth = np.matmul(orth_left, phi_2)\n",
    "    ###END SOLUTION\n",
    "\n",
    "    return orth"
   ]
  },
  {
   "cell_type": "markdown",
   "id": "2df59a17",
   "metadata": {},
   "source": [
    "Let us check whether your function does what it must do:"
   ]
  },
  {
   "cell_type": "code",
   "execution_count": null,
   "id": "4bdea8e8",
   "metadata": {},
   "outputs": [],
   "source": [
    "# As a test let us take two orthogonal vectors\n",
    "vec_1 = np.array([1,1,0])\n",
    "vec_2 = np.array([1,-1,0])\n",
    "M_test = np.eye(3) # The unity matrix\n",
    "\n",
    "assert np.abs(check_orthogonality(vec_1, 5*vec_1, M_test)) > 1.e-10 # not equal to zero, a vector is not orthogonal to itself\n",
    "assert np.isclose(check_orthogonality(vec_1, vec_2, M_test), 0) # = zero up to numerical precision\n",
    "assert np.isclose(check_orthogonality(vec_1, 5*vec_2, M_test), 0) # = zero up to numerical precision"
   ]
  },
  {
   "cell_type": "markdown",
   "id": "3370e07a",
   "metadata": {},
   "source": [
    "<b> Assignment 2.4:</b> Use `check_orthogonality` to check the orthogonality between your modeshapes:\n"
   ]
  },
  {
   "cell_type": "code",
   "execution_count": null,
   "id": "9fe2534a",
   "metadata": {},
   "outputs": [],
   "source": [
    "###BEGIN SOLUTION\n",
    "\n",
    "results = np.empty((3,3))\n",
    "i = 0\n",
    "j = 0\n",
    "\n",
    "for psi_i in psi.T:\n",
    "    for psi_j in psi.T:\n",
    "        results[i,j] = round(np.abs(check_orthogonality(psi_i, psi_j, M=M)),2)\n",
    "        j+=1\n",
    "    i+=1\n",
    "    j=0\n",
    "\n",
    "results\n",
    "###END SOLUTION"
   ]
  },
  {
   "cell_type": "markdown",
   "id": "388b36f2",
   "metadata": {},
   "source": [
    "Were your mode shapes nicely orthogonal?"
   ]
  },
  {
   "cell_type": "markdown",
   "id": "56e52be9",
   "metadata": {},
   "source": [
    "## Exercise 3 : The frequency response function\n",
    "\n",
    "Let us continue with the 3DOF freedom model we used in Exercise 1. This time we will focus on the frequency response function. The frequency response function is a way to represent how a system will respond to a force being exerted on any of the degrees of freedom. For this we start with standard equations of motion of a MDOF system expressed in the frequency domain.\n",
    "\n",
    "$\\left(-\\omega^2M+j\\omega{}C+K\\right)\\vec{X}(\\omega) = \\vec{F}(\\omega)$\n",
    "\n",
    "Which we can rewrite as follows:\n",
    "\n",
    "$\\vec{X}(\\omega) = \\left(-\\omega^2M+j\\omega{}C+K\\right)^{-1}\\vec{F}(\\omega) = H(\\omega)\\vec{F}(\\omega)$\n",
    "\n",
    "In which we call $H(\\omega)$ the frequency response function.\n",
    "\n",
    "Which we can rewrite as follows:\n",
    "\n",
    "$\\vec{X}(\\omega) = \\left(-\\omega^2M+j\\omega{}C+K\\right)^{-1}\\vec{F}(\\omega) = H(\\omega)\\vec{F}(\\omega)$\n",
    "\n",
    "In which we call $H(\\omega)$ the frequency response function.\n",
    "\n",
    "In the cell below the function `frequency_response_function` calculates the FRF for a system defined using $M$, $C$ and $K$ matrices for a range of frequencies."
   ]
  },
  {
   "cell_type": "code",
   "execution_count": null,
   "id": "2c6b6ded",
   "metadata": {},
   "outputs": [],
   "source": [
    "def frequency_response_function(M:np.array, C:np.array, K:np.array, f= np.linspace(0,4,100), i=1,j=1):\n",
    "    \"\"\"\n",
    "    A function that computes the Frequency Response Function from the system matrices\n",
    "\n",
    "    Arguments:\n",
    "    M,C,K -- system matrices of the MDOF system\n",
    "    f -- the frequency for which the repsponse needs to be calculated\n",
    "    i,j -- the specific element of the FRF matrix to be computed.\n",
    "\n",
    "    Return: H_ij -- the i-th row and j-th column element of the FRF function at f\n",
    "    \"\"\"\n",
    "    \n",
    "    if not isinstance(f, np.ndarray):\n",
    "        f = np.array([f])\n",
    "    s = f*np.pi*2*1j\n",
    "    \n",
    "    M_s2 = np.outer(M,(s**2)).reshape(M.shape[0], -1, len(s))\n",
    "    C_s = np.outer(C,(s**1)).reshape(M.shape[0], -1, len(s))\n",
    "    K_s = np.outer(K,(s**0)).reshape(M.shape[0], -1, len(s))\n",
    "\n",
    "    H_ij = []\n",
    "    for s_i in range(len(s)):\n",
    "        H_ij.append(np.linalg.inv((M_s2+C_s+K_s)[:,:,s_i])[i,j])\n",
    "    \n",
    "    return H_ij"
   ]
  },
  {
   "cell_type": "markdown",
   "id": "69fb6531",
   "metadata": {},
   "source": [
    "<b> Assignment 3.1:</b> In the field below answer following questions:\n",
    "\n",
    "* What are the dimensions of the FRF for a 3DOF system?\n",
    "* Can you explain in your own words what the FRF represents?"
   ]
  },
  {
   "cell_type": "markdown",
   "id": "9c68e91a",
   "metadata": {},
   "source": [
    "###BEGIN SOLUTION\n",
    "- The FRF of 3DOF system is 3x3 matrix \n",
    "- The elements ij of the FRF (i = row, j= columns) gives the frequency responce of the dof i if the excitation were applied in the dof j\n",
    "\n",
    "###END SOLUTION"
   ]
  },
  {
   "cell_type": "markdown",
   "id": "d37338a8",
   "metadata": {},
   "source": [
    "<b> Assignment 3.2:</b> For the 3DOF system of exercise 1, can you calculate the transfer function between the input location of the force $f$ and the output location $x_3$ for a range of frequencies between 0 and 2Hz using `frequency_response_function`? Call your frequency vector `f` and your output `H_3f`\n",
    "    \n",
    "**TIP**: Be aware that in python counting starts from 0, so the first column of a matrix is denoted 0\n",
    "\n"
   ]
  },
  {
   "cell_type": "code",
   "execution_count": null,
   "id": "1ca64b65",
   "metadata": {},
   "outputs": [],
   "source": [
    "###BEGIN SOLUTION\n",
    "f= np.linspace(0,2,200)\n",
    "M, C, K = build_3DOF_matrices(m=1, k=16, k1=16, c=0.1, c1=0.1)\n",
    "H_3f = frequency_response_function(M, C, K, f= f, i=2,j=2)\n",
    "###END SOLUTION"
   ]
  },
  {
   "cell_type": "markdown",
   "id": "a20a50e6",
   "metadata": {},
   "source": [
    "Let us just quickly check if you have done the right steps."
   ]
  },
  {
   "cell_type": "code",
   "execution_count": null,
   "id": "2e5ac35c",
   "metadata": {},
   "outputs": [],
   "source": [
    "assert max(f) == 2 # Maximum frequency is 2Hz\n",
    "assert len(H_3f) == len(f)\n",
    "\n",
    "### BEGIN HIDDEN TESTS\n",
    "M_t, C_t, K_t = build_3DOF_matrices(m=1, k=16, k1=16, c=0.1, c1=0.1)\n",
    "H_3f_t = frequency_response_function(M, C, K, f= f, i=2,j=2)\n",
    "\n",
    "assert np.array_equal(M_t, M), 'There is an error in the M matrix'\n",
    "assert np.array_equal(C_t, C), 'There is an error in the C matrix'\n",
    "assert np.array_equal(K_t, K), 'There is an error in the K matrix'\n",
    "\n",
    "assert np.array_equal(H_3f_t, H_3f), 'There is an error in the Transfer function, did you calculate the right transfer function?'\n",
    "### END HIDDEN TESTS\n",
    "\n",
    "\n"
   ]
  },
  {
   "cell_type": "markdown",
   "id": "b8200f98",
   "metadata": {},
   "source": [
    "And let us have a look at your output:"
   ]
  },
  {
   "cell_type": "code",
   "execution_count": null,
   "id": "fd231971",
   "metadata": {},
   "outputs": [],
   "source": [
    "assert ran_test_cell\n",
    "\n",
    "fig, axes = plt.subplots(2,1)\n",
    "\n",
    "axes[0].semilogy(f,np.abs(H_3f))\n",
    "axes[0].grid(which='both', linestyle=':')\n",
    "axes[0].set_ylabel('Magnitude')\n",
    "axes[1].plot(f,np.angle(H_3f,deg=True))\n",
    "axes[1].set_ylabel('Angle (°)')\n",
    "axes[1].set_xlabel('Frequency (Hz)')\n",
    "\n",
    "axes[1].grid(which='both', linestyle=':')\n",
    "\n",
    "t = axes[0].set_title('H_33(f)')"
   ]
  },
  {
   "cell_type": "markdown",
   "id": "866606f3",
   "metadata": {},
   "source": [
    "Obviously the properties of the FRF will change depending on the system properties. In the following interactive cell you can change the values of $m$, $c$, $k$. Can you identify the role of each of the parameters on the final FRF?"
   ]
  },
  {
   "cell_type": "code",
   "execution_count": null,
   "id": "956778e0",
   "metadata": {},
   "outputs": [],
   "source": [
    "import iplot.interactive_plot_1"
   ]
  },
  {
   "cell_type": "markdown",
   "id": "519fc6a9",
   "metadata": {},
   "source": [
    "As discussed in assignment 3.1 the FRF is in fact a 3 by 3 matrix for a three dimensional system. Up to this point we just focused on the transfer function between input location $f$ and output location $x_3(t)$. But how do the other elements of the transfer function look like?"
   ]
  },
  {
   "cell_type": "markdown",
   "id": "bf35fa6b",
   "metadata": {},
   "source": [
    "<b> Assignment 3.3:</b> Update the code below to plot the FRF function for all 9 elements. Can you also plot a vertical line at the resonance frequencies on the x-axis? \n",
    "    \n",
    "**TIP** : To plot a figure with logarithmic y-scale on a particular axis `ax` you can use the command `ax.semilogy` and to draw a single vertical line the same axis you can use the command `ax.vline(value)`.\n"
   ]
  },
  {
   "cell_type": "code",
   "execution_count": null,
   "id": "096d2ffd",
   "metadata": {},
   "outputs": [],
   "source": [
    "f = np.linspace(0,2,200)\n",
    "n_dof = np.shape(M)[0]\n",
    "\n",
    "fig, axes = plt.subplots(n_dof,n_dof)\n",
    "\n",
    "for i in range(n_dof):\n",
    "    for j in range(n_dof):\n",
    "        # V---!ADD THE NECESSARY CODE HERE!---V\n",
    "        ###BEGIN SOLUTION\n",
    "        axes[i,j].semilogy(f, np.abs(frequency_response_function(M,C,K,f=f, i=i,j=j)))\n",
    "        for fr in f_res:\n",
    "            axes[i,j].axvline(np.real(fr), linestyle=':', color='r')\n",
    "        ###END SOLUTION\n",
    "        axes[i,j].set_title(f'$||H_{{{i+1}{j+1}}}||$')\n",
    "        axes[i,j].set_xlabel('Frequency (Hz)')\n",
    "        axes[i,j].grid(which='both', linestyle=':')\n",
    "        axes[i,j].set_ylim([1e-3,1e1])\n",
    "        axes[i,j].set_xlim([0, max(f)])\n",
    "        \n",
    "plt.subplots_adjust(left=0.1,\n",
    "                    bottom=0.1, \n",
    "                    right=0.9, \n",
    "                    top=0.9, \n",
    "                    wspace=0.4, \n",
    "                    hspace=0.9)"
   ]
  },
  {
   "cell_type": "markdown",
   "id": "74d884cf",
   "metadata": {},
   "source": [
    "<b> Assignment 3.4:</b> Can you answer following questions about the FRF's in the cell below?\n",
    "\n",
    "* Do you notice any difference between the FRF's on the diagonal elements and those on non-diagonal elements?\n",
    "* What do you notice about the resonance frequencies?\n",
    "* What can you tell about the zeroes of the system?\n",
    "* Can you spot other properties of the frequency response function?"
   ]
  },
  {
   "cell_type": "markdown",
   "id": "a220067d",
   "metadata": {},
   "source": [
    "###BEGIN SOLUTION\n",
    "\n",
    "- In FRF's on the diagonal the resonances always are alternated by an anti-resonance, off-diagonal FRF's don't have this property\n",
    "- They are visible at the same frequencies in all FRFs\n",
    "- They are not situated at the same frequency for each element\n",
    "- The matrix is symmetric\n",
    "\n",
    "###END SOLUTION"
   ]
  },
  {
   "cell_type": "markdown",
   "id": "a6306d1c",
   "metadata": {},
   "source": [
    "<div class=\"alert alert-block alert-success\">\n",
    "<b>That concludes this session:</b> In this session we tried to show you how MDOF systems can be modelled and how the FRF functions can be computed from the system matrices.\n",
    "</div>\n"
   ]
  }
 ],
 "metadata": {
  "hide_input": false,
  "kernelspec": {
   "display_name": "Python 3 (ipykernel)",
   "language": "python",
   "name": "python3"
  },
  "language_info": {
   "codemirror_mode": {
    "name": "ipython",
    "version": 3
   },
   "file_extension": ".py",
   "mimetype": "text/x-python",
   "name": "python",
   "nbconvert_exporter": "python",
   "pygments_lexer": "ipython3",
   "version": "3.8.5"
  },
  "toc": {
   "base_numbering": 1,
   "nav_menu": {},
   "number_sections": true,
   "sideBar": true,
   "skip_h1_title": false,
   "title_cell": "Table of Contents",
   "title_sidebar": "Contents",
   "toc_cell": false,
   "toc_position": {},
   "toc_section_display": true,
   "toc_window_display": false
  },
  "vscode": {
   "interpreter": {
    "hash": "916dbcbb3f70747c44a77c7bcd40155683ae19c65e1c03b4aa3499c5328201f1"
   }
  }
 },
 "nbformat": 4,
 "nbformat_minor": 5
}
