{
 "cells": [
  {
   "cell_type": "markdown",
   "id": "7cc6ac07",
   "metadata": {
    "deletable": false,
    "editable": false,
    "tags": []
   },
   "source": [
    "<font color ='Navy'><center> __BruFace__ </center></font>\n",
    "<br> MA1 Mechanical Engineering <br>  __Mechanical Vibrations__ <br>  <br> \n",
    "***\n",
    "***\n",
    "<font color='Navy'><h1><center>Session 2 : One DOF system</center></h1></font> \n",
    "***\n",
    "<div class=\"alert alert-block alert-info\">\n",
    "<center><b>Welcome to the second session </b></center>"
   ]
  },
  {
   "cell_type": "code",
   "execution_count": null,
   "id": "bb11a55a",
   "metadata": {
    "deletable": false,
    "editable": false,
    "tags": []
   },
   "outputs": [],
   "source": [
    "# don't worry about this line \n",
    "%matplotlib widget"
   ]
  },
  {
   "cell_type": "markdown",
   "id": "dbeaa842",
   "metadata": {
    "deletable": false,
    "editable": false,
    "tags": []
   },
   "source": [
    "# About the Practical sessions\n",
    "## Python and Jupyter\n",
    "\n",
    "The practical sessions are organized using \"Jupyter Notebooks\" a tool to program and study results in the Python programming language. It is not our goal to make you ace Python programmers but we do believe it is a useful skill for a modern day engineer. If you are interested to get started with Python there are many resources available online, we recommend: https://realpython.com/learning-paths/python3-introduction/\n",
    "\n",
    "For these practical sessions we will use these partially filled in notebooks, so you don't need to worry too much about the nuts and bolts of Python and we focus on the Mechanical Vibrations. We do hope you also get a bit familiar with Python in the progress.\n",
    "\n",
    "<div class=\"alert alert-block alert-info\">\n",
    "<center><b>It is important that you run each cell of the notebook. To do so select a cell (it will be highlighted) and press shift+enter on your keyboard or the play button in the menu above.</b></center></div>\n",
    "\n",
    "__During the practical session we will make use of three very common library in python. Namely, numpy, scipy and matplotlib__ \n",
    "<br>\n",
    "1. NumPy is a fundamental package for scientific computing in Python. It provides powerful matrix manupulation, basic linear algebra and much more\n",
    "2. SciPy is a collection of mathematical algorithms and convenience functions built on the NumPy extension of Python.\n",
    "3. Matplotlib is a Python 2D plotting library. <br>\n",
    "***\n",
    "NB : a package is just a collection of code (module) that you can import and use. If you want to learn more about a package, you shall go and visit the website of the package. E.g. for SciPy: https://docs.scipy.org/doc/scipy/\n",
    "\n",
    "Let's import both numpy and matplotlib.pyplot. The `as` in the code below allows us to use the shorthand `np` and `plt` \n",
    "for these packages.\n",
    "\n"
   ]
  },
  {
   "cell_type": "code",
   "execution_count": null,
   "id": "90d0cec2",
   "metadata": {
    "deletable": false,
    "editable": false,
    "tags": []
   },
   "outputs": [],
   "source": [
    "import numpy as np \n",
    "import matplotlib.pyplot as plt"
   ]
  },
  {
   "cell_type": "markdown",
   "id": "65e88824",
   "metadata": {
    "deletable": false,
    "editable": false,
    "tags": []
   },
   "source": [
    "Then when we want to use a function \"foo\" in the package numpy we have to type np.foo(arguments)\n",
    "\n",
    "## Making the exercises\n",
    "During the exercises you will need to complete some of the cells to make the code work. This will require you to implement some Python code. We kept it fairly simple and we tried to provide all secondary code so you can focus on the assignment at hand.\n",
    "\n",
    "So let us get started with a first example.\n",
    "\n",
    "## A first example\n",
    "\n",
    "To get you started let us start with a first exercise. Let us program a function that converts a pulsation $\\omega$ into a frequency $f$. We have set you up with the basic structure below.\n",
    "\n",
    "For this purpose we already set you up with a new function called `convert_pulsation` which takes in one argument `w` which is the pulsation. We also made the function return a value `f`. Can you complete the code (where it says `# your code here`) so the pulsation `w` is converted into a frequency `f` in _Hz_? You should also remove the statement: `raise NotImplementedError`.\n",
    "\n",
    "\n",
    "**TIP**: you can access the variable $\\pi$ using the command `np.pi`"
   ]
  },
  {
   "cell_type": "code",
   "execution_count": null,
   "id": "cff72c2d",
   "metadata": {
    "deletable": false,
    "tags": []
   },
   "outputs": [],
   "source": [
    "# cell metadata=autograded-answer\n",
    "def convert_pulsation(w:float):\n",
    "    \"\"\"\n",
    "    Implement a function that the frequency from a pulsation omega \n",
    "    \n",
    "    Arguments:\n",
    "    w -- the pulsation \n",
    "\n",
    "    Returns:\n",
    "    f -- the frequency in Hz\n",
    "    \"\"\"   \n",
    "    \n",
    "    # your code here\n",
    "    raise NotImplementedError\n",
    "\n",
    "    return f"
   ]
  },
  {
   "cell_type": "markdown",
   "id": "3f88d65c",
   "metadata": {
    "deletable": false,
    "editable": false,
    "tags": []
   },
   "source": [
    "Now that this function is created we can use it as follows : `f = convert_pulsation(w=np.pi)` to convert a pulsation of $\\pi{}$  _rad/s_ into a frequency.\n",
    "\n",
    "In the next we can check (=assert) whether or not your solution was correct or not. When the cell below runs without errors then you're code is working correctly. Note that you can't change this cell yourself. \n",
    "\n",
    "And, yes you can't see all tests, so we are also checking some other things in the background :-)"
   ]
  },
  {
   "cell_type": "code",
   "execution_count": null,
   "id": "bfedda65",
   "metadata": {
    "deletable": false,
    "editable": false,
    "tags": []
   },
   "outputs": [],
   "source": [
    "# cell metadata=autograder-tests\n",
    "assert convert_pulsation(np.pi) == 0.5\n",
    "assert convert_pulsation(2*np.pi) == 1\n"
   ]
  },
  {
   "cell_type": "markdown",
   "id": "7250aaa8",
   "metadata": {
    "deletable": false,
    "editable": false,
    "tags": []
   },
   "source": [
    "# Exercises\n",
    "\n",
    "## Exercise 1 : Fundamental equations of a SDOF system"
   ]
  },
  {
   "cell_type": "markdown",
   "id": "ade26545",
   "metadata": {
    "deletable": false,
    "editable": false,
    "tags": []
   },
   "source": [
    "Consider the following one-degree-of-freedom (1 DOF) system :\n",
    "<img src=\"./Images/SDOF.png\" width=200 height=200 />\n"
   ]
  },
  {
   "cell_type": "markdown",
   "id": "86d55b62",
   "metadata": {
    "deletable": false,
    "editable": false,
    "tags": []
   },
   "source": [
    "<b>Assignment 1.1:</b> Write the equation of motion in the time domain (Using LaTeX) in the cell below: \n",
    "\n",
    "(If you are not familiar with LaTeX you can use: https://www.hostmath.com/ and copy the LaTeX below)"
   ]
  },
  {
   "cell_type": "markdown",
   "id": "3e4ca0cd",
   "metadata": {
    "deletable": false,
    "tags": []
   },
   "source": [
    "YOUR ANSWER HERE"
   ]
  },
  {
   "cell_type": "markdown",
   "id": "3418579a",
   "metadata": {
    "deletable": false,
    "editable": false,
    "tags": []
   },
   "source": [
    "<b>Assignment 1.2:</b> Code the expression to calculate $\\omega_n$ using the properties of the SDOF system into the function `calcW_n`\n"
   ]
  },
  {
   "cell_type": "code",
   "execution_count": null,
   "id": "24c6a9a1",
   "metadata": {
    "deletable": false,
    "tags": []
   },
   "outputs": [],
   "source": [
    "def calcW_n(k:float,m:float):\n",
    "    \"\"\"\n",
    "    Implement the expression of W_n\n",
    "\n",
    "    Arguments:\n",
    "    k, m -- parameters of the SDOF system\n",
    "\n",
    "    Returns:\n",
    "    w_n -- the value of w_n, computed using the formula seen in the course\n",
    "    \"\"\"   \n",
    "\n",
    "    # your code here\n",
    "    raise NotImplementedError\n",
    "\n",
    "    return w_n\n",
    "    "
   ]
  },
  {
   "cell_type": "markdown",
   "id": "87527d48",
   "metadata": {
    "deletable": false,
    "editable": false,
    "tags": []
   },
   "source": [
    "Validation, if the following cell runs without error you have successfully implemented `calcW_n`:"
   ]
  },
  {
   "cell_type": "code",
   "execution_count": null,
   "id": "21c7d862",
   "metadata": {
    "deletable": false,
    "editable": false,
    "tags": []
   },
   "outputs": [],
   "source": [
    "# cell metadata=autograder-tests\n",
    "\n",
    "assert calcW_n(12,3) == 2.0\n",
    "assert calcW_n(16,4) == 2.0\n",
    "assert calcW_n(64,4) == 4.0\n"
   ]
  },
  {
   "cell_type": "markdown",
   "id": "9fe9eb7b",
   "metadata": {
    "deletable": false,
    "editable": false,
    "tags": []
   },
   "source": [
    "<b>Assignment 1.3:</b> Write the expression to calculate $\\xi$ using the properties of the SDOF system into the function `calcXi`\n"
   ]
  },
  {
   "cell_type": "code",
   "execution_count": null,
   "id": "8ccdbff4",
   "metadata": {
    "deletable": false,

    "tags": []
   },
   "outputs": [],
   "source": [
    "def calcXi(m:float, c:float, k:float):\n",
    "    \"\"\"\n",
    "    Implement the expression of Xi\n",
    "    \n",
    "    Arguments:\n",
    "    m,c,k -- parameter of the SDOF system\n",
    "    \n",
    "    Returns:\n",
    "    xi -- the value of Xi, computed using the formula seen in the course\n",
    "    \"\"\"   \n",
    "\n",
    "    # your code here\n",
    "    raise NotImplementedError\n",
    "    \n",
    "    return xi"
   ]
  },
  {
   "cell_type": "markdown",
   "id": "04ac76ad",
   "metadata": {
    "deletable": false,
    "editable": false,
    "tags": []
   },
   "source": [
    "Validation, if the following cell runs without error you have successfully implemented `calcXi`:"
   ]
  },
  {
   "cell_type": "code",
   "execution_count": null,
   "id": "0a10c989",
   "metadata": {
    "deletable": false,
    "editable": false,

    "tags": []
   },
   "outputs": [],
   "source": [
    "assert calcXi(1,20,1) == 10.0\n",
    "assert calcXi(2,20,2) == 5.0\n",
    "assert calcXi(3,36,3) == 6.0\n",
    "\n"
   ]
  },
  {
   "cell_type": "markdown",
   "id": "24465a5a",
   "metadata": {
    "deletable": false,
    "editable": false,

    "tags": []
   },
   "source": [
    "<b>Assignment 1.4:</b> Write the expression to calculate $\\omega_d$, starting from $\\omega_n$ and $\\xi$, into the  function `calcW_d`\n"
   ]
  },
  {
   "cell_type": "code",
   "execution_count": null,
   "id": "e1f64f40",
   "metadata": {
    "deletable": false,

    "tags": []
   },
   "outputs": [],
   "source": [
    "def calcW_d(w_n:float,xi:float):\n",
    "    \"\"\"\n",
    "    Implement the expression of W_n\n",
    "    \n",
    "    Arguments:\n",
    "    wn,xi -- properties of the SDOF system\n",
    "    \n",
    "    Returns:\n",
    "    w_n -- the value of w_n, computed using the formula seen in the course\n",
    "    \"\"\"   \n",
    "\n",
    "    # your code here\n",
    "    raise NotImplementedError\n",
    "    return w_d"
   ]
  },
  {
   "cell_type": "markdown",
   "id": "8d3b321f",
   "metadata": {
    "deletable": false,
    "editable": false,

    "tags": []
   },
   "source": [
    "Validation, if the following cell runs without error you have successfully implemented `calcW_d`:\n"
   ]
  },
  {
   "cell_type": "code",
   "execution_count": null,
   "id": "2cfca097",
   "metadata": {
    "deletable": false,
    "editable": false,
    "tags": []
   },
   "outputs": [],
   "source": [
    "assert round(calcW_d(1,0.1),3) == 0.995 # The round(results,3) rounds your results to 3 decimal pounts\n",
    "assert round(calcW_d(2,0.05),3) == 1.997\n"
   ]
  },
  {
   "cell_type": "markdown",
   "id": "07212208",
   "metadata": {
    "deletable": false,
    "editable": false,
    "tags": []
   },
   "source": [
    "<div class=\"alert alert-block alert-info\">\n",
    "<b>End of Exercise :</b> We have reached the end this first assignment, you have now implemented three functions: `calcW_n`, `calcXi` and `calcW_d`. These allow us to calculate the properties of any SDOF system.\n",
    "</div>"
   ]
  },
  {
   "cell_type": "markdown",
   "id": "da98e209",
   "metadata": {
    "deletable": false,
    "editable": false,
    "tags": []
   },
   "source": [
    "## Exercise 2: Impulse response of a SDOF\n",
    "\n",
    "Let us put the functions that you wrote in Exercise 1 to good use.  Consider a SDOF system, as illustrated in the Figure at the beginning of Exercise 1, with following properties:\n",
    "\n",
    "- a mass of $1kg$\n",
    "- a stiffness of $16N/m$\n",
    "- a damping coefficient of $0.1 Ns/m$.\n",
    "\n",
    "<b>Assignment 2.1:</b> Calculate $\\omega_n$, $\\xi$ and $\\omega_d$ for the system described above using the functions made in Exercise 1. \n",
    "\n"
   ]
  },
  {
   "cell_type": "code",
   "execution_count": null,
   "id": "dc186093",
   "metadata": {
    "deletable": false,
    "tags": []
   },
   "outputs": [],
   "source": [
    "\n",
    "# your code here\n",
    "raise NotImplementedError\n",
    "\n",
    "w_n = calcW_n(m=m, k=k)\n",
    "xi = calcXi(m=m, c=c, k=k)\n",
    "w_d = calcW_d(w_n, xi)\n",
    "\n",
    "conclusion = f'The system has an natural frequency of {w_n/2/np.pi:.3}Hz, a damping ratio of {xi*100}% and damped natural frequency of {w_d/2/np.pi:.3}Hz'\n",
    "\n",
    "print(conclusion)"
   ]
  },
  {
   "cell_type": "markdown",
   "id": "0445d839",
   "metadata": {
    "deletable": false,
    "editable": false,
    "tags": []
   },
   "source": [
    "We now have determined the modal parameters for the SDOF system. Let us try to calculate the impulse response of the SDOF system. This impulse response is the behaviour how the system responds to an impulse load. \n",
    "\n",
    "<b>Assignment 2.2:</b> Implement the impulse response function for SDOF systems in the function `impulse_response`. This is implemented using the equations you built in Exercise 1."
   ]
  },
  {
   "cell_type": "code",
   "execution_count": null,
   "id": "3bc48648",
   "metadata": {
    "deletable": false,
    "tags": []
   },
   "outputs": [],
   "source": [
    "def impulse_response(m:float,c:float,k:float,t:np.ndarray):\n",
    "    \"\"\"\n",
    "    Implement the SDOF impulse response \n",
    "    \n",
    "    Arguments:\n",
    "    m, c and k -- Parameter of the system \n",
    "                -- m is in kg\n",
    "                -- c is in N.s.m^-1\n",
    "                -- k is in N.m^-1\n",
    "    t          -- Time vector, containing the timesteps \n",
    "    \n",
    "    Returns:\n",
    "    h -- the value of function h for the timesteps in the Time vector t, computed using \n",
    "        expression of the impulse response\n",
    "    -----------------------------\n",
    "    tips :  1.call the function defined above to compute Xi and Wn and \n",
    "              save them in a local variable\n",
    "            2.define a variable wd first\n",
    "            3.use np.exp and np.sin\n",
    "    -----------------------------\n",
    "    \"\"\"\n",
    "\n",
    "    xi=calcXi(m=m, c=c, k=k)\n",
    "    \n",
    "    w_n=calcW_n(m=m, k=k)\n",
    "    \n",
    "    w_d= calcW_d(w_n, xi)\n",
    "    \n",
    "    # your code here\n",
    "    raise NotImplementedError\n",
    "    return h\n",
    "    "
   ]
  },
  {
   "cell_type": "markdown",
   "id": "0fcca9ad",
   "metadata": {
    "deletable": false,
    "editable": false,
   "source": [
    "Validation, if the following cell runs without error you have successfully implemented `impulse_response`. To test the functions we will used some logical tests. Have a look at the tests below, do you understand their motivation?"
   ]
  },
  {
   "cell_type": "code",
   "execution_count": null,
   "id": "74161594",
   "metadata": {
    "deletable": false,
    "editable": false,
    "tags": []
   },
   "outputs": [],
   "source": [
    "m = 1\n",
    "c = 0.1\n",
    "k = 16\n",
    "\n",
    "assert impulse_response(m=m, c=c, k=k, t=0) == 0      # at t=0, no response yet, the system is at rest\n",
    "assert impulse_response(m=m, c=c, k=k, t=1e8) < 1e-18  # After a long time, the system will no longer oscillate\n",
    "\n",
    "# What happens in absence of damping (c=0) ?\n",
    "assert  not impulse_response(m=m, c=0, k=k, t=1e8) < 1e-18 # In absence of damping, after a long time the system will still oscillate!"
   ]
  },
  {
   "cell_type": "markdown",
   "id": "42117c2a",
   "metadata": {
    "deletable": false,
    "editable": false,
    "tags": []
   },
   "source": [
    "Did you understand all of the tests we used above? \n",
    "Maybe it helps to understand them if we plot the first 100 _s_ of the impulse response for the system of interest."
   ]
  },
  {
   "cell_type": "code",
   "execution_count": null,
   "id": "2f30ce8c",
   "metadata": {
    "deletable": false,
    "editable": false,
    "tags": []
   },
   "outputs": [],
   "source": [
    "\n",
    "t =np.arange(start=0,stop=100,step=0.1) # Defining a time vector with 0.1s step size\n",
    "h =impulse_response(m=1,k=16,c=0.1,t=t) # Calculating the impulse reponse\n",
    "\n",
    "# Plotting the result:\n",
    "\n",
    "plt.figure(figsize=(7,5))\n",
    "plt.plot(t,h)\n",
    "plt.xlabel('Time (s)')\n",
    "plt.ylabel('h(t)')\n",
    "plt.grid(which='both', linestyle=':')\n",
    "plt.show()"
   ]
  },
  {
   "cell_type": "markdown",
   "id": "0c24eb28",
   "metadata": {
    "deletable": false,
    "editable": false,
    "tags": []
   },
   "source": [
    "We can clearly see the role of $\\omega_d$ and $\\xi$ in this impulse response $h(t)$. In the figure below we can nicely see how the impulse response is the combination of an undamped sinus (with a frequency $\\omega_d$) and an exponential decay (driven by the damping ratio $\\xi$)."
   ]
  },
  {
   "cell_type": "code",
   "execution_count": null,
   "id": "6570ac7c",
   "metadata": {
    "deletable": false,
    "editable": false,
    "tags": []
   },
   "outputs": [],
   "source": [
    "m = 1\n",
    "k = 16\n",
    "c = 0.1\n",
    "\n",
    "t =np.arange(start=0,stop=100,step=0.1) # Defining a time vector with 0.1s step size\n",
    "h =impulse_response(m=m,k=k,c=c,t=t) # Calculating the impulse reponse\n",
    "\n",
    "xi=calcXi(m=m, c=c, k=k)\n",
    "w_n=calcW_n(m=m, k=k)\n",
    "w_d=calcW_d(w_n, xi)\n",
    "\n",
    "# Plotting the result:\n",
    "\n",
    "plt.figure(figsize=(7,5))\n",
    "plt.plot(t, np.sin(w_d*t)*np.max(h), color='lightgray', label='$sin(\\omega_d\\cdot{}t)$')\n",
    "plt.plot(t, np.exp(-xi*w_n*t)*np.max(h), color='firebrick', label='$e^{-\\\\xi\\cdot{}*\\omega_d\\cdot{}t}$')\n",
    "\n",
    "plt.plot(t,h, label='$h(t)$')\n",
    "\n",
    "\n",
    "plt.xlabel('Time (s)')\n",
    "plt.ylabel('h(t)')\n",
    "plt.xlim([0,50])\n",
    "\n",
    "plt.grid(which='both', linestyle=':')\n",
    "\n",
    "plt.legend()\n",
    "plt.show()"
   ]
  },
  {
   "cell_type": "markdown",
   "id": "1b4f9fca",
   "metadata": {
    "deletable": false,
    "editable": false,

    "tags": []
   },
   "source": [
    "<b>Assignment 2.3:</b>: We have made an interactive tool to plot how the impulse reponse function varies when you vary $m$, $c$, $k$. Try it out to better understand the interplay of the SDOF properties and it's dynamic behaviour. No programming required. "
   ]
  },
  {
   "cell_type": "code",
   "execution_count": null,
   "id": "9c77316b",
   "metadata": {
    "deletable": false,
    "editable": false,
    "tags": []
   },
   "outputs": [],
   "source": [
    "import sys\n",
    "import iplot.interactive_plot_1\n",
    "#del sys.modules[\"iplot.interactive_plot_1\"]\n",
    "#import iplot.interactive_plot_1"
   ]
  },
  {
   "cell_type": "markdown",
   "id": "6a1810cf",
   "metadata": {
    "deletable": false,
    "editable": false,
    "tags": []
   },
   "source": [
    "<div class=\"alert alert-block alert-success\">\n",
    "<b>Suggestion :</b>\n",
    "Try to find the parameter that leads to a damping coefficient equal to 100%, observe how $\\omega_d$ becomes nan (= 'Not a Number') since the assumption used to derive the expression of $\\omega_d$ no longer holds (damping coef <1) \n",
    "</div>\n",
    "<div class=\"alert alert-block alert-info\">\n",
    "<b>End of Exercise :</b> We have reached the end this first assignment, in which you calculated the impulse response of a SDOF system. You should now understand the interplay `m`, `c` and `k` and the modal parameters and how this translates into a different impulse response function.\n",
    "</div>\n",
    "    \n",
    "## Exercise 3 : Forced harmonic response.\n",
    "\n",
    "Let us again consider our SDOF system. But this time try to understand how it would respond to a harmonic force:\n",
    "\n",
    "$f(t) = sin(\\omega_f*t)$.\n",
    "\n",
    "<b>Assignment 3.1:</b> Write a function `harmonic_force` that for a defined driving frequency $f$ (in Hz) calculates the harmonic force $f(t)$ for any timestamp $t$."
   ]
  },
  {
   "cell_type": "code",
   "execution_count": null,
   "id": "b457c8d0",
   "metadata": {
    "deletable": false,
    "tags": []
   },
   "outputs": [],
   "source": [
    "def harmonic_force(f:float, t:float):\n",
    "    \"\"\"\n",
    "    Calculate the harmonic force using a driving frequency f for any timestamp t\n",
    "    \n",
    "    Arguments:\n",
    "    f -- driving frequency  in Hz\n",
    "    t -- timestamp (in s)\n",
    "    \n",
    "    Returns:\n",
    "    force -- the harmonic force at timestamp t\n",
    "    \n",
    "    \"\"\"\n",
    "    # your code here\n",
    "    raise NotImplementedError\n",
    "    return force\n"
   ]
  },
  {
   "cell_type": "markdown",
   "id": "630b4b97",
   "metadata": {
    "deletable": false,
    "editable": false,
    "tags": []
   },
   "source": [
    "Validation, if the following cell runs without error you have successfully implemented `harmonic_force`"
   ]
  },
  {
   "cell_type": "code",
   "execution_count": null,
   "id": "1fe498d4",
   "metadata": {
    "deletable": false,
    "editable": false,
    "tags": []
   },
   "outputs": [],
   "source": [
    "assert round(harmonic_force(f=1,t=1),1) == 0 \n",
    "assert round(harmonic_force(f=2,t=1),1) == 0 \n",
    "assert round(harmonic_force(f=0.5,t=1),1) == 0 \n",
    "assert round(harmonic_force(f=0.25,t=1),1) == 1 \n"
   ]
  },
  {
   "cell_type": "markdown",
   "id": "2e86bfc2",
   "metadata": {
    "deletable": false,
    "editable": false,

    "tags": []
   },
   "source": [
    "The next step is to calculate the response of our SDOF system $x(t)$ to this harmonic force. To do so we will use Duhamel's integral.\n",
    "\n",
    "$$ \\begin{align}\\begin{aligned} x(t)=\\int_{0}^{t} f(\\tau)h(t-\\tau) d\\tau \t \\end{aligned}\\end{align} $$\n",
    "\n",
    "Or since $h(t)=0$ and $f(t)=0$ for all t<0, so we can write it as a convolution:\n",
    "\n",
    "$$ \\begin{align}\\begin{aligned} x(t)=\\int_{-\\infty}^{\\infty} f(\\tau)h(t-\\tau) d\\tau \t \\end{aligned}\\end{align} $$\n",
    "$$ \\begin{align}\\begin{aligned} x(t)= f(t) \\ast h(t) \t \\end{aligned}\\end{align} $$\n",
    "\n",
    "This is quite simple to implement, we use the `np.convolve` command to return the convolution of the outcome of `harmonic_force` and `impulse_response`"
   ]
  },
  {
   "cell_type": "code",
   "execution_count": null,
   "id": "5a1eeba2",
   "metadata": {
    "deletable": false,
    "editable": false,
   "outputs": [],
   "source": [
    "def harmonic_response(m:float,c:float,k:float,f:np.ndarray,t:np.ndarray):\n",
    "    \"\"\"\n",
    "    Implement the SDOF impulse response \n",
    "    \n",
    "    Arguments:\n",
    "    m, c and k -- Parameter of the system \n",
    "                -- m is in kg\n",
    "                -- c is in N.s.m^-1\n",
    "                -- k is in N.m^-1\n",
    "    t          -- Time vector, containing the timesteps \n",
    "    \n",
    "    Returns:\n",
    "    h -- the value of function h for the timesteps in the Time vector t, computed using \n",
    "        expression of the impulse response\n",
    "    -----------------------------\n",
    "    tips :  1.call the function defined above to compute Xi and Wn and \n",
    "              save them in a local variable\n",
    "            2.define a variable wd first\n",
    "            3.use np.exp and np.sin\n",
    "    -----------------------------\n",
    "    \"\"\"\n",
    "    \n",
    "    f = harmonic_force(f, t)\n",
    "    h = impulse_response(m=m, c=c, k=k, t=t)\n",
    "    \n",
    "    response = np.convolve(h, f, mode='full') # This is where the magic happens!\n",
    "    \n",
    "    return response[:len(f)]"
   ]
  },
  {
   "cell_type": "markdown",
   "id": "fcfb67bf",
   "metadata": {
    "deletable": false,
    "editable": false,
    "tags": []
   },
   "source": [
    "Let us have a look at how the harmonic response looks like for our SDOF system with for a harmonic excitation at 0.5Hz."
   ]
  },
  {
   "cell_type": "code",
   "execution_count": null,
   "id": "d138f04c",
   "metadata": {
    "deletable": false,
    "editable": false,
    "tags": []
   },
   "outputs": [],
   "source": [
    "m = 1\n",
    "c = 0.1\n",
    "k = 16\n",
    "\n",
    "t = np.arange(start=0,stop=100,step=0.1)\n",
    "w_n=calcW_n(m=m, k=k)\n",
    "\n",
    "response = harmonic_response(m=m, c=c, k=k, f=0.05, t=t)\n",
    "\n",
    "plt.figure(figsize=(7,5))\n",
    "# let's fill our figure with the data we found after using our \n",
    "# impulse response data\n",
    "plt.plot(t,response)\n",
    "# let's add labels to our axes\n",
    "plt.xlabel('Time (s)',fontsize=12)\n",
    "plt.ylabel('Harmonic response x(t)',fontsize=12)\n",
    "plt.grid(which='both', linestyle=':')\n",
    "# plt.xlim([0,500])\n",
    "plt.show()"
   ]
  },
  {
   "cell_type": "markdown",
   "id": "e1745f8a",
   "metadata": {
    "deletable": false,
    "editable": false,
    "tags": []
   },
   "source": [
    "<div class=\"alert alert-block alert-info\">\n",
    "<b>Remark :</b> In the above figure the transient and the steady state regime can be clearly observed.\n",
    "The first 3 cycles correspond to the transient regime.\n",
    "</div>\n",
    "\n",
    "<b>Assignment 3.2:</b> We have made an interactive tool to plot how the harmonic reponse function varies when you vary the driving frequency $f$. Try it out to better understand the interplay of the SDOF system and the driving frequency. Which types of transient behaviour can you spot? What is the relation with structures natural frequency $\\omega_n$? "
   ]
  },
  {
   "cell_type": "code",
   "execution_count": null,
   "id": "8eac1406",
   "metadata": {
    "deletable": false,
    "editable": false,
    "tags": []
   },
   "outputs": [],
   "source": [
    "import sys\n",
    "import iplot.interactive_plot_2\n",
    "#del sys.modules[\"iplot.interactive_plot_2\"]\n",
    "#import iplot.interactive_plot_2"
   ]
  },
  {
   "cell_type": "markdown",
   "id": "79d7c27c",
   "metadata": {
    "deletable": false,
    "editable": false,
    "tags": []
   },
   "source": [
    "<div class=\"alert alert-block alert-success\">\n",
    "<b>Suggestion :</b> Vary the excitation frequency and observe how the transient regime behaves: In the transient regime, we have the presence of two harmonics: the natural frequency + the excitation frequency, which for certain frequency values leads to the beating phenomenon.\n",
    "</div>\n",
    "\n",
    "In the previous assignment you could clearly see different types of transient behaviour. After this transient behaviour has passed we can observe the steady state behaviour. \n",
    "\n",
    "One way to analyse the steady-state behaviour of a system subjected to different harmonic excitations is to work with the frequency domain expression and plotting it in a **Bode diagram**.\n",
    "\n",
    "\n",
    "<b>Assignment 3.3:</b> Write a function `frequency_response_function` that computes the frequency response function, for harmonic excitations, for any frequency $f$ (in Hz) taking the system properties $m$, $c$ and $k$ as inputs.\n",
    "\n"
   ]
  },
  {
   "cell_type": "code",
   "execution_count": null,
   "id": "b77bb3c8",
   "metadata": {
    "deletable": false,
    "tags": []
   },
   "outputs": [],
   "source": [
    "def frequency_response_function(m:float,c:float,k:float,f:np.ndarray):\n",
    "    \"\"\"\n",
    "    Implement the SDOF expression of the harmonic forced response\n",
    "    \n",
    "    Arguments:\n",
    "    m, c and k -- Parameter of the system \n",
    "                -- m is in kg\n",
    "                -- c is in N.s.m^-1\n",
    "                -- k is in N.m^-1\n",
    "    f --  vector of frequencies (Hz)\n",
    "    \n",
    "    Returns:\n",
    "    H -- a vector of the value of the function H, computed using \n",
    "        expression of the expression of the harmonic forced response\n",
    "    -----------------------------\n",
    "    tips : In python the complex i can be expressed using the letter j\n",
    "    \n",
    "    -----------------------------\n",
    "    \"\"\"\n",
    "    # your code here\n",
    "    raise NotImplementedError\n",
    "    return H\n"
   ]
  },
  {
   "cell_type": "markdown",
   "id": "bf8e1991",
   "metadata": {
    "deletable": false,
    "editable": false,
    "tags": []
   },
   "source": [
    "Validation, if the following cell runs without error you have successfully implemented `frequency_response_function`:\n",
    "\n",
    "\n"
   ]
  },
  {
   "cell_type": "code",
   "execution_count": null,
   "id": "6d130034",
   "metadata": {
    "deletable": false,
    "editable": false,
    "tags": []
   },
   "outputs": [],
   "source": [
    "assert isinstance(frequency_response_function(m=1, c=0.1, k=16, f=10), complex) # A FRF function is a complex number\n",
    "assert round(abs(frequency_response_function(m=1, c=0.1, k=16, f=0.62)),1) == 1.1 \n",
    "assert round(abs(frequency_response_function(m=1, c=0.1, k=16, f=0.66)),1) == 0.8 \n"
   ]
  },
  {
   "cell_type": "markdown",
   "id": "a8f84523",
   "metadata": {
    "deletable": false,
    "editable": false,
    "tags": []
   },
   "source": [
    "As you can tell from the tests above the outcome of the frequency response function is a complex number. Therefore it carries information about both the **Amplitude** and **phase**. A Bode diagram visualizes exactly these elements of a frequency response function. Let us draw a Bode diagram of our SDOF system for the frequency range of 0 to 2 _Hz_.\n",
    "\n",
    "We already provided a function `bode_plot` that nicely draws the Bode plot.\n",
    "\n",
    "<b>Assignment 3.4:</b> Use the provided function `bode_plot` to draw the Frequency response function (in the range from 0 to 2 _Hz_) for a system with :\n",
    "\n",
    "- a mass of  1𝑘𝑔 \n",
    "- a stiffness of  16𝑁/𝑚 \n",
    "- a damping coefficient of  0.1𝑁𝑠/𝑚.\n",
    "\n",
    "\n"
   ]
  },
  {
   "cell_type": "code",
   "execution_count": null,
   "id": "a53bf33c",
   "metadata": {
    "deletable": false,
    "tags": []
   },
   "outputs": [],
   "source": [
    "def bode_plot(f, H):\n",
    "    \"\"\"\n",
    "    Draw a bode plot for the frequency response function H and corresponding frequency vector f.\n",
    "    \n",
    "    Arguments:\n",
    "    H -- a vector of the value of the function H, computed using \n",
    "            expression of the expression of the harmonic forced response\n",
    "    f --  vector of frequencies (Hz)\n",
    "    \"\"\"\n",
    "    \n",
    "    \n",
    "    fig,ax= plt.subplots(nrows=2,figsize=(8,6))\n",
    "    ax[0].plot(f,np.abs(H))\n",
    "    ax[0].set_yscale('log')\n",
    "    ax[0].set_ylabel('Amplitude ')\n",
    "    ax[0].set_xlabel('Frequency (Hz)')\n",
    "    ax[0].grid(which='both', linestyle=':')\n",
    "\n",
    "    ax[1].plot(f,np.angle(H,deg=True))\n",
    "    ax[1].set_xlabel('Frequency (Hz)')\n",
    "    ax[1].set_ylabel('Phase (deg)')\n",
    "    ax[1].grid(which='both', linestyle=':')\n",
    "\n",
    "\n",
    "# your code here\n",
    "raise NotImplementedError"
   ]
  },
  {
   "cell_type": "markdown",
   "id": "ee8cc87a",
   "metadata": {
    "deletable": false,
    "editable": false,
    "tags": []
   },
   "source": [
    "So what does this mean? To illustrate how this relates to the system response to a harmonic force (of a fixed amplitude but variable frequency) we made a small demonstration. Note that despite we are not changing the input amplitude that the output amplitude does vary! Can you maximize the response amplitude?\n",
    "\n",
    "\n",
    "\n"
   ]
  },
  {
   "cell_type": "code",
   "execution_count": null,
   "id": "26a469e0",
   "metadata": {
    "deletable": false,
    "editable": false,
    "tags": []
   },
   "outputs": [],
   "source": [
    "import sys\n",
    "import iplot.interactive_plot_3\n",
    "#del sys.modules[\"iplot.interactive_plot_3\"]\n",
    "#import iplot.interactive_plot_3"
   ]
  },
  {
   "cell_type": "markdown",
   "id": "de4a5c05",
   "metadata": {
    "deletable": false,
    "editable": false,
    "tags": []
   },
   "source": [
    "So what about the phase?"
   ]
  },
  {
   "cell_type": "code",
   "execution_count": null,
   "id": "ddba507b",
   "metadata": {
    "deletable": false,
    "editable": false,
    "tags": []
   },
   "outputs": [],
   "source": [
    "import sys\n",
    "import iplot.interactive_plot_4\n",
    "#del sys.modules[\"iplot.interactive_plot_4\"]\n",
    "#import iplot.interactive_plot_4"
   ]
  },
  {
   "cell_type": "markdown",
   "id": "56e734aa",
   "metadata": {
    "deletable": false,
    "editable": false,
    "tags": []
   },
   "source": [
    "For our final assignment we will have a look at how the Frequency response function varies for different systems."
   ]
  },
  {
   "cell_type": "code",
   "execution_count": null,
   "id": "91359707",
   "metadata": {
    "deletable": false,
    "editable": false,
    "tags": []
   },
   "outputs": [],
   "source": [
    "import sys\n",
    "import iplot.interactive_plot_5\n",
    "#del sys.modules[\"iplot.interactive_plot_5\"]\n",
    "#import iplot.interactive_plot_5"
   ]
  },
  {
   "cell_type": "markdown",
   "id": "5539153e",
   "metadata": {
    "deletable": false,
    "editable": false,
    "tags": []
   },
   "source": [
    "<div class=\"alert alert-block alert-success\">\n",
    "<b>Remark :</b> Notice how, when you increase the damping, the amplitude of the resonance decreases. However, for frequencies far from the resonance frequency, the transfer function does not change much even for a high damping.\n",
    "</div>\n",
    "\n",
    "\n",
    "<div class=\"alert alert-block alert-info\">\n",
    "    This concludes session 2, don't forget to <b>VALIDATE</b> and <b>SUBMIT</b> your assignment.\n",
    "</div>"
   ]
  }
 ],
 "metadata": {
  "hide_input": false,
  "kernelspec": {
   "display_name": "Python 3 (ipykernel)",
   "language": "python",
   "name": "python3"
  },
  "language_info": {
   "codemirror_mode": {
    "name": "ipython",
    "version": 3
   },
   "file_extension": ".py",
   "mimetype": "text/x-python",
   "name": "python",
   "nbconvert_exporter": "python",
   "pygments_lexer": "ipython3",
   "version": "3.10.12"
  },
  "toc": {
   "base_numbering": 1,
   "nav_menu": {},
   "number_sections": true,
   "sideBar": true,
   "skip_h1_title": false,
   "title_cell": "Table of Contents",
   "title_sidebar": "Contents",
   "toc_cell": false,
   "toc_position": {},
   "toc_section_display": true,
   "toc_window_display": false
  },
  "vscode": {
   "interpreter": {
    "hash": "916dbcbb3f70747c44a77c7bcd40155683ae19c65e1c03b4aa3499c5328201f1"
   }
  }
 },
 "nbformat": 4,
 "nbformat_minor": 5
}
